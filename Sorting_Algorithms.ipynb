{
  "nbformat": 4,
  "nbformat_minor": 0,
  "metadata": {
    "colab": {
      "name": "Sorting_Algorithms.ipynb",
      "provenance": [],
      "collapsed_sections": []
    },
    "kernelspec": {
      "name": "python3",
      "display_name": "Python 3"
    }
  },
  "cells": [
    {
      "cell_type": "markdown",
      "metadata": {
        "id": "A6Ry8CSW3Vav",
        "colab_type": "text"
      },
      "source": [
        "# **Selection sort**"
      ]
    },
    {
      "cell_type": "code",
      "metadata": {
        "id": "NW2br8uK_H5f",
        "colab_type": "code",
        "colab": {}
      },
      "source": [
        "def selection_sort(arr):\n",
        "  n = len(arr)\n",
        "\n",
        "  for i in range(n):\n",
        "    \n",
        "    min = i\n",
        "    for j in range(i+1,n):\n",
        "      if arr[min] > arr[j]:\n",
        "        min = j\n",
        "    \n",
        "    arr[i], arr[min] = arr[min], arr[i]\n",
        "\n",
        "  return arr "
      ],
      "execution_count": 19,
      "outputs": []
    },
    {
      "cell_type": "code",
      "metadata": {
        "id": "pdwGXSXJQpHl",
        "colab_type": "code",
        "colab": {
          "base_uri": "https://localhost:8080/",
          "height": 34
        },
        "outputId": "2658e243-c8cb-4b0c-e244-e3b56ecfe840"
      },
      "source": [
        "selection_sort([\"paper\", \"true\", \"soap\", \"floppy\", \"flower\"])"
      ],
      "execution_count": 20,
      "outputs": [
        {
          "output_type": "stream",
          "text": [
            "['floppy', 'flower', 'paper', 'soap', 'true']\n"
          ],
          "name": "stdout"
        }
      ]
    },
    {
      "cell_type": "markdown",
      "metadata": {
        "id": "_mtlrqz63cBe",
        "colab_type": "text"
      },
      "source": [
        "# **Bubble Sort**"
      ]
    },
    {
      "cell_type": "code",
      "metadata": {
        "id": "JDBqiu1cShWt",
        "colab_type": "code",
        "colab": {}
      },
      "source": [
        "def bubble_sort(a):\n",
        "  n = len(a)\n",
        "\n",
        "  for i in range(n):\n",
        "    for j in range(n-1-i):\n",
        "      if a[j]>a[j+1]:\n",
        "        a[j],a[j+1] = a[j+1],a[j]\n",
        "  \n",
        "  return a\n"
      ],
      "execution_count": 21,
      "outputs": []
    },
    {
      "cell_type": "code",
      "metadata": {
        "id": "pSWrJC9KVzgW",
        "colab_type": "code",
        "colab": {
          "base_uri": "https://localhost:8080/",
          "height": 34
        },
        "outputId": "20cd1ae1-3b5c-49fd-eab6-81d055cf2c96"
      },
      "source": [
        "bubble_sort([40,50,10,30,20])"
      ],
      "execution_count": 22,
      "outputs": [
        {
          "output_type": "stream",
          "text": [
            "[10, 20, 30, 40, 50]\n"
          ],
          "name": "stdout"
        }
      ]
    },
    {
      "cell_type": "markdown",
      "metadata": {
        "id": "GtCliE6f-UgM",
        "colab_type": "text"
      },
      "source": [
        "# **Insertion Sort**"
      ]
    },
    {
      "cell_type": "code",
      "metadata": {
        "id": "tlL5oYvjV56x",
        "colab_type": "code",
        "colab": {}
      },
      "source": [
        "def insertion_sort(a):\n",
        "  n = len(a)\n",
        "\n",
        "  for i in range(1,n):\n",
        "    key = a[i]\n",
        "    j = i-1\n",
        "    while j>=0 and key<a[j]:\n",
        "      a[j+1] = a[j]\n",
        "      j-=1\n",
        "    a[j+1] = key\n",
        "  \n",
        "  return a"
      ],
      "execution_count": 23,
      "outputs": []
    },
    {
      "cell_type": "code",
      "metadata": {
        "id": "OJ-u7Sm6zfAe",
        "colab_type": "code",
        "colab": {
          "base_uri": "https://localhost:8080/",
          "height": 34
        },
        "outputId": "c26e4fec-af07-4dbe-cd02-c57ac8d0de3b"
      },
      "source": [
        "insertion_sort([5,2,1,4,6,3])"
      ],
      "execution_count": 24,
      "outputs": [
        {
          "output_type": "stream",
          "text": [
            "[1, 2, 3, 4, 5, 6]\n"
          ],
          "name": "stdout"
        }
      ]
    },
    {
      "cell_type": "markdown",
      "metadata": {
        "id": "pw0c4JeI-Yea",
        "colab_type": "text"
      },
      "source": [
        "# **Merge Sort**"
      ]
    },
    {
      "cell_type": "code",
      "metadata": {
        "id": "o41iov5Fzj9F",
        "colab_type": "code",
        "colab": {}
      },
      "source": [
        "def merge_sort(a):\n",
        "  if len(a)>1:\n",
        "    mid = len(a)//2\n",
        "    l = a[:mid]\n",
        "    r = a[mid:]\n",
        "    \n",
        "    merge_sort(l)\n",
        "    merge_sort(r)\n",
        "  \n",
        "    i = j = k = 0\n",
        "\n",
        "    while i <len(l) and j<len(r):\n",
        "      if l[i] < r[j]:\n",
        "        a[k] = l[i]\n",
        "        i+=1  \n",
        "      else:\n",
        "        a[k] = r[j]\n",
        "        j+=1\n",
        "      k+=1\n",
        "    \n",
        "    while i < len(l): \n",
        "      a[k] = l[i] \n",
        "      i+= 1\n",
        "      k+= 1\n",
        "            \n",
        "    while j < len(r): \n",
        "      a[k] = r[j] \n",
        "      j+= 1\n",
        "      k+= 1\n",
        "    \n",
        "  return a\n",
        "  "
      ],
      "execution_count": 25,
      "outputs": []
    },
    {
      "cell_type": "code",
      "metadata": {
        "id": "XaoaIL8V7LqS",
        "colab_type": "code",
        "colab": {
          "base_uri": "https://localhost:8080/",
          "height": 34
        },
        "outputId": "c6c5ce5c-7a7d-4214-f25d-b50df2080775"
      },
      "source": [
        "merge_sort([40,20,10,50,30])"
      ],
      "execution_count": 26,
      "outputs": [
        {
          "output_type": "execute_result",
          "data": {
            "text/plain": [
              "[10, 20, 30, 40, 50]"
            ]
          },
          "metadata": {
            "tags": []
          },
          "execution_count": 26
        }
      ]
    },
    {
      "cell_type": "markdown",
      "metadata": {
        "id": "7En0uIsN-jzo",
        "colab_type": "text"
      },
      "source": [
        "# **Quick Sort**"
      ]
    },
    {
      "cell_type": "code",
      "metadata": {
        "id": "NPXkk4To7N3R",
        "colab_type": "code",
        "colab": {}
      },
      "source": [
        "def quick_sort(a,start,end):\n",
        "  if start<end:\n",
        "    Pindex = partition(a,start,end)\n",
        "    quick_sort(a,start,Pindex-1)\n",
        "    quick_sort(a,Pindex+1,end)\n",
        "\n",
        "  return a\n",
        "\n",
        "def partition(a,start,end):\n",
        "  pivot = a[end]\n",
        "  Pindex = start\n",
        "\n",
        "  for i in range(start,end):\n",
        "    if a[i]<pivot:\n",
        "      a[i],a[Pindex] = a[Pindex],a[i]\n",
        "      Pindex +=1\n",
        "  a[end],a[Pindex] = a[Pindex],a[end]\n",
        "\n",
        "  return Pindex\n"
      ],
      "execution_count": 27,
      "outputs": []
    },
    {
      "cell_type": "code",
      "metadata": {
        "id": "aLaLWnVxz2mJ",
        "colab_type": "code",
        "colab": {
          "base_uri": "https://localhost:8080/",
          "height": 34
        },
        "outputId": "95e98ef2-c9ee-48fa-9868-11f0abf9d294"
      },
      "source": [
        "arr = [5,1,2,3,6,4]\n",
        "quick_sort(arr,0,len(arr)-1)"
      ],
      "execution_count": 28,
      "outputs": [
        {
          "output_type": "execute_result",
          "data": {
            "text/plain": [
              "[1, 2, 3, 4, 5, 6]"
            ]
          },
          "metadata": {
            "tags": []
          },
          "execution_count": 28
        }
      ]
    }
  ]
}